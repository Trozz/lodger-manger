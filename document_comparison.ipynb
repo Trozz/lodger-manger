{
 "cells": [
  {
   "cell_type": "markdown",
   "id": "c271b679",
   "metadata": {},
   "source": [
    "# Legal Document Comparison and Anonymization\n",
    "## Tenancy Agreement Processing System\n",
    "This notebook processes and compares tenancy agreements during tenant onboarding. It helps ensure consistency across agreements while protecting personal information."
   ]
  },
  {
   "cell_type": "code",
   "execution_count": null,
   "id": "8ae753ae",
   "metadata": {},
   "outputs": [],
   "source": [
    "# Import Required Libraries\n",
    "import re\n",
    "import difflib\n",
    "import pandas as pd\n",
    "import numpy as np\n",
    "import spacy\n",
    "from pathlib import Path"
   ]
  },
  {
   "cell_type": "markdown",
   "id": "81a914f0",
   "metadata": {},
   "source": [
    "# Load Legal Documents\n",
    "Read the input documents from files and prepare them for processing."
   ]
  },
  {
   "cell_type": "code",
   "execution_count": null,
   "id": "91b7dbaf",
   "metadata": {},
   "outputs": [],
   "source": [
    "def load_document(file_path):\n",
    "    \"\"\"Load a document from a file path.\"\"\"\n",
    "    with open(file_path, 'r', encoding='utf-8') as file:\n",
    "        return file.read()\n",
    "\n",
    "# Example usage\n",
    "doc1_path = \"document1.txt\"\n",
    "doc2_path = \"document2.txt\"\n",
    "\n",
    "try:\n",
    "    document1 = load_document(doc1_path)\n",
    "    document2 = load_document(doc2_path)\n",
    "except FileNotFoundError:\n",
    "    print(\"Please ensure the document files exist in the correct location.\")"
   ]
  },
  {
   "cell_type": "markdown",
   "id": "8197debc",
   "metadata": {},
   "source": [
    "# Preprocess Text\n",
    "Clean and normalize the text to ensure consistent comparison."
   ]
  },
  {
   "cell_type": "code",
   "execution_count": null,
   "id": "bc2275bf",
   "metadata": {},
   "outputs": [],
   "source": [
    "def preprocess_text(text):\n",
    "    \"\"\"Clean and normalize text.\"\"\"\n",
    "    # Convert to lowercase\n",
    "    text = text.lower()\n",
    "    \n",
    "    # Remove extra whitespace\n",
    "    text = re.sub(r'\\s+', ' ', text)\n",
    "    \n",
    "    # Remove special characters but keep periods and commas\n",
    "    text = re.sub(r'[^\\w\\s.,]', '', text)\n",
    "    \n",
    "    return text.strip()\n",
    "\n",
    "# Process both documents\n",
    "doc1_processed = preprocess_text(document1)\n",
    "doc2_processed = preprocess_text(document2)"
   ]
  },
  {
   "cell_type": "markdown",
   "id": "f06bc7dc",
   "metadata": {},
   "source": [
    "# Compare Documents for Matching\n",
    "Implement document comparison using difflib to identify similarities and differences."
   ]
  },
  {
   "cell_type": "code",
   "execution_count": null,
   "id": "29b27cb8",
   "metadata": {},
   "outputs": [],
   "source": [
    "def compare_documents(text1, text2):\n",
    "    \"\"\"Compare two documents and return similarity ratio and differences.\"\"\"\n",
    "    # Calculate similarity ratio\n",
    "    similarity = difflib.SequenceMatcher(None, text1, text2).ratio()\n",
    "    \n",
    "    # Get detailed differences\n",
    "    differ = difflib.Differ()\n",
    "    diff = list(differ.compare(text1.splitlines(), text2.splitlines()))\n",
    "    \n",
    "    return similarity, diff\n",
    "\n",
    "# Compare the processed documents\n",
    "similarity_ratio, differences = compare_documents(doc1_processed, doc2_processed)\n",
    "print(f\"Document similarity: {similarity_ratio:.2%}\")"
   ]
  },
  {
   "cell_type": "markdown",
   "id": "a2b2c3b4",
   "metadata": {},
   "source": [
    "# Identify and Remove Real Names\n",
    "Use NLP techniques to identify and remove personal information from the documents."
   ]
  },
  {
   "cell_type": "code",
   "execution_count": null,
   "id": "eadc0db7",
   "metadata": {},
   "outputs": [],
   "source": [
    "# Load spaCy model for named entity recognition\n",
    "nlp = spacy.load(\"en_core_web_sm\")\n",
    "\n",
    "def anonymize_text(text):\n",
    "    \"\"\"Remove personal information from text.\"\"\"\n",
    "    doc = nlp(text)\n",
    "    anonymized = text\n",
    "    \n",
    "    # Replace named entities with generic labels\n",
    "    for ent in reversed(doc.ents):\n",
    "        if ent.label_ in [\"PERSON\", \"ORG\", \"GPE\", \"LOC\"]:\n",
    "            replacement = f\"[{ent.label_}]\"\n",
    "            anonymized = anonymized[:ent.start_char] + replacement + anonymized[ent.end_char:]\n",
    "    \n",
    "    return anonymized\n",
    "\n",
    "# Anonymize both documents\n",
    "doc1_anonymous = anonymize_text(document1)\n",
    "doc2_anonymous = anonymize_text(document2)\n",
    "\n",
    "# Compare anonymized versions\n",
    "anon_similarity, anon_diff = compare_documents(\n",
    "    preprocess_text(doc1_anonymous),\n",
    "    preprocess_text(doc2_anonymous)\n",
    ")\n",
    "print(f\"Anonymized document similarity: {anon_similarity:.2%}\")"
   ]
  },
  {
   "cell_type": "markdown",
   "id": "a0aa21a5",
   "metadata": {},
   "source": [
    "# Legal Document Comparison Tool\n",
    "This notebook provides functionality to compare two legal documents and ensure sensitive information is removed."
   ]
  },
  {
   "cell_type": "code",
   "execution_count": null,
   "id": "820d8354",
   "metadata": {},
   "outputs": [],
   "source": [
    "# Import Required Libraries\n",
    "import re\n",
    "import difflib\n",
    "import spacy\n",
    "import pandas as pd\n",
    "from typing import List, Tuple"
   ]
  },
  {
   "cell_type": "markdown",
   "id": "d04c2b5d",
   "metadata": {},
   "source": [
    "# Load Legal Documents\n",
    "We'll create functions to load and initially process the legal documents."
   ]
  },
  {
   "cell_type": "code",
   "execution_count": null,
   "id": "8a75b316",
   "metadata": {},
   "outputs": [],
   "source": [
    "def load_document(file_path: str) -> str:\n",
    "    \"\"\"Load a document from a file path and return its contents as a string.\"\"\"\n",
    "    with open(file_path, 'r', encoding='utf-8') as file:\n",
    "        return file.read()\n",
    "\n",
    "def split_into_lines(text: str) -> List[str]:\n",
    "    \"\"\"Split document into lines and remove empty lines.\"\"\"\n",
    "    return [line.strip() for line in text.split('\\n') if line.strip()]"
   ]
  },
  {
   "cell_type": "markdown",
   "id": "04a7d849",
   "metadata": {},
   "source": [
    "# Preprocess Text\n",
    "Clean and normalize the text to ensure consistent comparison."
   ]
  },
  {
   "cell_type": "code",
   "execution_count": null,
   "id": "086f3a1e",
   "metadata": {},
   "outputs": [],
   "source": [
    "def preprocess_text(text: str) -> str:\n",
    "    \"\"\"Clean and normalize text for comparison.\"\"\"\n",
    "    # Convert to lowercase\n",
    "    text = text.lower()\n",
    "    # Remove extra whitespace\n",
    "    text = ' '.join(text.split())\n",
    "    # Remove special characters but keep periods and commas\n",
    "    text = re.sub(r'[^\\w\\s.,]', '', text)\n",
    "    return text"
   ]
  },
  {
   "cell_type": "markdown",
   "id": "89f22df8",
   "metadata": {},
   "source": [
    "# Compare Documents for Similarity\n",
    "Implement document comparison using difflib to identify differences."
   ]
  },
  {
   "cell_type": "code",
   "execution_count": null,
   "id": "66b0301d",
   "metadata": {},
   "outputs": [],
   "source": [
    "def compare_documents(doc1: str, doc2: str) -> Tuple[float, List[str]]:\n",
    "    \"\"\"Compare two documents and return similarity ratio and differences.\"\"\"\n",
    "    # Split into lines and preprocess\n",
    "    lines1 = split_into_lines(preprocess_text(doc1))\n",
    "    lines2 = split_into_lines(preprocess_text(doc2))\n",
    "    \n",
    "    # Calculate similarity\n",
    "    matcher = difflib.SequenceMatcher(None, doc1, doc2)\n",
    "    similarity = matcher.ratio()\n",
    "    \n",
    "    # Get differences\n",
    "    differ = difflib.Differ()\n",
    "    diff = list(differ.compare(lines1, lines2))\n",
    "    \n",
    "    return similarity, diff"
   ]
  },
  {
   "cell_type": "markdown",
   "id": "404449d6",
   "metadata": {},
   "source": [
    "# Identify and Remove Real Names\n",
    "Use NLP to identify and remove personally identifiable information."
   ]
  },
  {
   "cell_type": "code",
   "execution_count": null,
   "id": "fd735dda",
   "metadata": {},
   "outputs": [],
   "source": [
    "# Load spaCy model for named entity recognition\n",
    "nlp = spacy.load(\"en_core_web_sm\")\n",
    "\n",
    "def remove_personal_info(text: str) -> str:\n",
    "    \"\"\"Identify and replace personal information with placeholders.\"\"\"\n",
    "    doc = nlp(text)\n",
    "    \n",
    "    # Copy text for modification\n",
    "    modified_text = text\n",
    "    \n",
    "    # Replace named entities with placeholders\n",
    "    for ent in reversed(doc.ents):\n",
    "        if ent.label_ in ['PERSON', 'ORG', 'GPE', 'LOC']:\n",
    "            modified_text = modified_text[:ent.start_char] + f\"[{ent.label_}]\" + modified_text[ent.end_char:]\n",
    "    \n",
    "    return modified_text"
   ]
  },
  {
   "cell_type": "markdown",
   "id": "cc1907b6",
   "metadata": {},
   "source": [
    "# Example Usage\n",
    "Here's how to use the functions defined above."
   ]
  },
  {
   "cell_type": "code",
   "execution_count": null,
   "id": "54698076",
   "metadata": {},
   "outputs": [],
   "source": [
    "# Example usage\n",
    "sample_text1 = \"\"\"\n",
    "John Smith agrees to pay $1000 to ABC Corp\n",
    "located at 123 Main St, New York.\n",
    "\"\"\"\n",
    "\n",
    "sample_text2 = \"\"\"\n",
    "John Smith agrees to pay $1500 to ABC Corp\n",
    "located at 123 Main St, New York.\n",
    "\"\"\"\n",
    "\n",
    "# Compare documents\n",
    "similarity, differences = compare_documents(sample_text1, sample_text2)\n",
    "print(f\"Document similarity: {similarity:.2%}\")\n",
    "\n",
    "# Remove personal information\n",
    "anonymized_text = remove_personal_info(sample_text1)\n",
    "print(\"\\nAnonymized text:\")\n",
    "print(anonymized_text)"
   ]
  },
  {
   "cell_type": "markdown",
   "id": "f87b9dc3",
   "metadata": {},
   "source": [
    "# Legal Document Comparison and Anonymization\n",
    "\n",
    "This notebook compares two legal documents for similarity and removes sensitive information like real names and addresses."
   ]
  },
  {
   "cell_type": "markdown",
   "id": "c2e64047",
   "metadata": {},
   "source": [
    "## Import Required Libraries\n",
    "\n",
    "We'll import necessary libraries for text processing, comparison, and pattern matching."
   ]
  },
  {
   "cell_type": "code",
   "execution_count": null,
   "id": "4d89511f",
   "metadata": {},
   "outputs": [],
   "source": [
    "import re\n",
    "import difflib\n",
    "import spacy\n",
    "import pandas as pd\n",
    "from typing import List, Tuple\n",
    "\n",
    "# Load English language model for NER\n",
    "nlp = spacy.load(\"en_core_web_sm\")"
   ]
  },
  {
   "cell_type": "markdown",
   "id": "0ff2eb6f",
   "metadata": {},
   "source": [
    "## Load Legal Documents\n",
    "\n",
    "Load the two legal documents that need to be compared and anonymized."
   ]
  },
  {
   "cell_type": "code",
   "execution_count": null,
   "id": "00c149e3",
   "metadata": {},
   "outputs": [],
   "source": [
    "def load_document(file_path: str) -> str:\n",
    "    \"\"\"Load a document from file path and return its contents as string.\"\"\"\n",
    "    with open(file_path, 'r', encoding='utf-8') as file:\n",
    "        return file.read()\n",
    "\n",
    "# Example usage\n",
    "# doc1 = load_document('path_to_first_document.txt')\n",
    "# doc2 = load_document('path_to_second_document.txt')\n",
    "\n",
    "# For demonstration, using sample texts\n",
    "doc1 = \"\"\"This agreement between Jake Lander residing at 145 Ladyshot\n",
    "and Daniel Hibbard states the following terms...\"\"\"\n",
    "\n",
    "doc2 = \"\"\"This agreement between Jake Lander residing at 145 Ladyshot\n",
    "and Daniel Hibbard includes the following conditions...\"\"\""
   ]
  },
  {
   "cell_type": "markdown",
   "id": "7c914805",
   "metadata": {},
   "source": [
    "## Preprocess Text\n",
    "\n",
    "Clean and normalize the text to ensure consistent comparison."
   ]
  },
  {
   "cell_type": "code",
   "execution_count": null,
   "id": "91ac8ce1",
   "metadata": {},
   "outputs": [],
   "source": [
    "def preprocess_text(text: str) -> str:\n",
    "    \"\"\"Clean and normalize text for comparison.\"\"\"\n",
    "    # Convert to lowercase\n",
    "    text = text.lower()\n",
    "    # Remove extra whitespace\n",
    "    text = re.sub(r'\\s+', ' ', text)\n",
    "    # Remove special characters but keep basic punctuation\n",
    "    text = re.sub(r'[^a-z0-9\\s.,!?-]', '', text)\n",
    "    return text.strip()\n",
    "\n",
    "# Preprocess both documents\n",
    "doc1_processed = preprocess_text(doc1)\n",
    "doc2_processed = preprocess_text(doc2)"
   ]
  },
  {
   "cell_type": "markdown",
   "id": "c2b5bbe2",
   "metadata": {},
   "source": [
    "## Compare Documents for Similarity\n",
    "\n",
    "Use difflib to compare the documents and calculate similarity ratio."
   ]
  },
  {
   "cell_type": "code",
   "execution_count": null,
   "id": "30b4c2d7",
   "metadata": {},
   "outputs": [],
   "source": [
    "def compare_documents(text1: str, text2: str) -> Tuple[float, List[str]]:\n",
    "    \"\"\"Compare two documents and return similarity ratio and differences.\"\"\"\n",
    "    # Calculate similarity ratio\n",
    "    similarity = difflib.SequenceMatcher(None, text1, text2).ratio()\n",
    "    \n",
    "    # Get differences\n",
    "    differ = difflib.Differ()\n",
    "    diff = list(differ.compare(text1.splitlines(), text2.splitlines()))\n",
    "    \n",
    "    return similarity, diff\n",
    "\n",
    "# Compare the processed documents\n",
    "similarity_ratio, differences = compare_documents(doc1_processed, doc2_processed)\n",
    "print(f\"Document similarity: {similarity_ratio:.2%}\")\n",
    "print(\"\\nDifferences found:\")\n",
    "for d in differences:\n",
    "    if d.startswith(('+ ', '- ', '? ')):\n",
    "        print(d)"
   ]
  },
  {
   "cell_type": "markdown",
   "id": "d6aea859",
   "metadata": {},
   "source": [
    "## Identify and Remove Real Names\n",
    "\n",
    "Use Named Entity Recognition (NER) and regular expressions to identify and remove sensitive information."
   ]
  },
  {
   "cell_type": "code",
   "execution_count": null,
   "id": "03a8929e",
   "metadata": {},
   "outputs": [],
   "source": [
    "def anonymize_document(text: str) -> str:\n",
    "    \"\"\"Remove sensitive information from text using NER and regex.\"\"\"\n",
    "    # Use spaCy for Named Entity Recognition\n",
    "    doc = nlp(text)\n",
    "    \n",
    "    # Create a copy of text for modification\n",
    "    anonymized_text = text\n",
    "    \n",
    "    # Replace named entities with generic labels\n",
    "    for ent in doc.ents:\n",
    "        if ent.label_ in ['PERSON', 'GPE', 'LOC', 'ORG']:\n",
    "            replacement = f\"[{ent.label_}]\"\n",
    "            anonymized_text = anonymized_text.replace(str(ent), replacement)\n",
    "    \n",
    "    # Additional regex patterns for specific sensitive information\n",
    "    patterns = [\n",
    "        (r'\\d{3}[\\s-]?\\d{3}[\\s-]?\\d{4}', '[PHONE]'),  # Phone numbers\n",
    "        (r'\\d+\\s+[A-Za-z\\s]+(?:Street|St|Avenue|Ave|Road|Rd|Lane|Ln)', '[ADDRESS]'),  # Addresses\n",
    "    ]\n",
    "    \n",
    "    for pattern, replacement in patterns:\n",
    "        anonymized_text = re.sub(pattern, replacement, anonymized_text)\n",
    "    \n",
    "    return anonymized_text\n",
    "\n",
    "# Anonymize both documents\n",
    "doc1_anonymized = anonymize_document(doc1)\n",
    "doc2_anonymized = anonymize_document(doc2)\n",
    "\n",
    "print(\"Original Document 1:\")\n",
    "print(doc1)\n",
    "print(\"\\nAnonymized Document 1:\")\n",
    "print(doc1_anonymized)"
   ]
  }
 ],
 "metadata": {
  "language_info": {
   "name": "python"
  }
 },
 "nbformat": 4,
 "nbformat_minor": 5
}
